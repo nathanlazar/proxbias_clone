{
 "cells": [
  {
   "cell_type": "code",
   "execution_count": 1,
   "metadata": {},
   "outputs": [],
   "source": [
    "from proxbias.depmap.process import bootstrap_stats_parallel\n",
    "from proxbias.depmap.load import get_depmap_data\n",
    "from proxbias.utils.data_utils import get_cancer_gene_lists\n",
    "from proxbias.depmap.optimized import genome_proximity_bias_score_fast"
   ]
  },
  {
   "cell_type": "code",
   "execution_count": 2,
   "metadata": {},
   "outputs": [
    {
     "name": "stdout",
     "output_type": "stream",
     "text": [
      "CRISPRGeneEffect.csv from DepMap Public 22Q4 is found. Reading dataframe from cache.\n",
      "Done!\n",
      "OmicsCNGene.csv from DepMap Public 22Q4 is found. Reading dataframe from cache.\n",
      "Done!\n",
      "OmicsSomaticMutations.csv from DepMap Public 22Q4 is found. Reading dataframe from cache.\n",
      "Done!\n"
     ]
    }
   ],
   "source": [
    "crispr_effect, _, cnv_data, mutation_data = get_depmap_data(rnai_release=\"\")\n",
    "oncogenes, tsgs = get_cancer_gene_lists(crispr_effect.index)"
   ]
  },
  {
   "cell_type": "code",
   "execution_count": 3,
   "metadata": {},
   "outputs": [
    {
     "name": "stdout",
     "output_type": "stream",
     "text": [
      "Stats for TP53 computed in 246.88532710075378 - diff is 0.030981107000000008, 266 wt and 277 test\n",
      "CPU times: user 3.01 s, sys: 7.82 s, total: 10.8 s\n",
      "Wall time: 4min 7s\n"
     ]
    }
   ],
   "source": [
    "%%time\n",
    "# Note - increasing n_workers only currently helps when running against a large number of CPUs (e.g. >8)\n",
    "res = bootstrap_stats_parallel(\n",
    "    genes_of_interest=[\"TP53\"],\n",
    "    dependency_data=crispr_effect,\n",
    "    cnv_data=cnv_data,\n",
    "    mutation_data=mutation_data,\n",
    "    candidate_models=list(crispr_effect.columns),\n",
    "    search_mode=\"lof\",\n",
    "    n_bootstrap=20,\n",
    "    eval_function=genome_proximity_bias_score_fast,\n",
    "    eval_kwargs={\"n_samples\": 500, \"n_trials\": 200, \"return_samples\": False},\n",
    "    n_workers=1,\n",
    ")"
   ]
  },
  {
   "cell_type": "code",
   "execution_count": 4,
   "metadata": {},
   "outputs": [
    {
     "name": "stdout",
     "output_type": "stream",
     "text": [
      "Stats for TP53 computed in 350.526141166687 - diff is 0.030553642000000103, 266 wt and 277 test\n",
      "CPU times: user 1.93 s, sys: 1.58 s, total: 3.52 s\n",
      "Wall time: 5min 52s\n"
     ]
    }
   ],
   "source": [
    "%%time\n",
    "# Note - increasing n_workers only currently helps when running against a large number of CPUs (e.g. >8)\n",
    "res = bootstrap_stats_parallel(\n",
    "    genes_of_interest=[\"TP53\"],\n",
    "    dependency_data=crispr_effect,\n",
    "    cnv_data=cnv_data,\n",
    "    mutation_data=mutation_data,\n",
    "    candidate_models=list(crispr_effect.columns),\n",
    "    search_mode=\"lof\",\n",
    "    n_bootstrap=20,\n",
    "    eval_kwargs={\"n_samples\": 500, \"n_trials\": 200, \"return_samples\": False},\n",
    "    n_workers=1,\n",
    ")"
   ]
  },
  {
   "cell_type": "code",
   "execution_count": null,
   "metadata": {},
   "outputs": [],
   "source": []
  },
  {
   "cell_type": "code",
   "execution_count": null,
   "metadata": {},
   "outputs": [],
   "source": []
  }
 ],
 "metadata": {
  "kernelspec": {
   "display_name": "venv",
   "language": "python",
   "name": "python3"
  },
  "language_info": {
   "codemirror_mode": {
    "name": "ipython",
    "version": 3
   },
   "file_extension": ".py",
   "mimetype": "text/x-python",
   "name": "python",
   "nbconvert_exporter": "python",
   "pygments_lexer": "ipython3",
   "version": "3.10.10"
  }
 },
 "nbformat": 4,
 "nbformat_minor": 2
}
